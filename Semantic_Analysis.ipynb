{
  "nbformat": 4,
  "nbformat_minor": 0,
  "metadata": {
    "colab": {
      "provenance": []
    },
    "kernelspec": {
      "name": "python3",
      "display_name": "Python 3"
    },
    "language_info": {
      "name": "python"
    }
  },
  "cells": [
    {
      "cell_type": "code",
      "source": [
        "import nltk\n",
        "nltk.download('wordnet')\n",
        "nltk.download('punkt')\n",
        "nltk.download('averaged_perceptron_tagger')\n",
        "from nltk.tokenize import word_tokenize, sent_tokenize\n",
        "from nltk.corpus import wordnet as wn\n",
        "from nltk.tag import pos_tag\n",
        "\n",
        "\n"
      ],
      "metadata": {
        "colab": {
          "base_uri": "https://localhost:8080/"
        },
        "id": "nwz5dQAwNXFO",
        "outputId": "826fcfa4-7a7a-4a98-e884-1bb16280abb7"
      },
      "execution_count": 9,
      "outputs": [
        {
          "output_type": "stream",
          "name": "stderr",
          "text": [
            "[nltk_data] Downloading package wordnet to /root/nltk_data...\n",
            "[nltk_data] Downloading package punkt to /root/nltk_data...\n",
            "[nltk_data]   Unzipping tokenizers/punkt.zip.\n",
            "[nltk_data] Downloading package averaged_perceptron_tagger to\n",
            "[nltk_data]     /root/nltk_data...\n",
            "[nltk_data]   Unzipping taggers/averaged_perceptron_tagger.zip.\n"
          ]
        }
      ]
    },
    {
      "cell_type": "code",
      "source": [
        "def read_text_file(file_path):\n",
        "    with open(file_path, 'r') as file:\n",
        "        text = file.read()\n",
        "    return text\n",
        "\n",
        "file_path = 'text_file.txt'  # Replace with the path to your text file\n",
        "text = read_text_file(file_path)\n",
        "\n",
        "\n"
      ],
      "metadata": {
        "id": "DV5kG3G5O5QR"
      },
      "execution_count": 10,
      "outputs": []
    },
    {
      "cell_type": "code",
      "source": [
        "def get_verbs(text):\n",
        "    tokens = word_tokenize(text)\n",
        "    tagged_tokens = pos_tag(tokens)\n",
        "    verbs = [word for word, pos in tagged_tokens if pos.startswith('VB')]\n",
        "    return verbs\n",
        "\n",
        "verbs = get_verbs(text)\n"
      ],
      "metadata": {
        "id": "Wj3AwAJzZzzF"
      },
      "execution_count": 11,
      "outputs": []
    },
    {
      "cell_type": "code",
      "source": [
        "def get_synonyms_antonyms(verb):\n",
        "    synonyms = []\n",
        "    antonyms = []\n",
        "\n",
        "    for synset in wn.synsets(verb, pos=wn.VERB):\n",
        "        for lemma in synset.lemmas():\n",
        "            synonyms.append(lemma.name())\n",
        "            if lemma.antonyms():\n",
        "                antonyms.append(lemma.antonyms()[0].name())\n",
        "\n",
        "    return set(synonyms), set(antonyms)\n",
        "\n"
      ],
      "metadata": {
        "id": "M_1x1l7vZ2E9"
      },
      "execution_count": 12,
      "outputs": []
    },
    {
      "cell_type": "code",
      "source": [
        "verb_synonyms_antonyms = {}\n",
        "for verb in verbs:\n",
        "    synonyms, antonyms = get_synonyms_antonyms(verb)\n",
        "    verb_synonyms_antonyms[verb] = {'synonyms': synonyms, 'antonyms': antonyms}\n",
        "\n",
        "for verb, data in verb_synonyms_antonyms.items():\n",
        "    print(f\"Verb: {verb}\")\n",
        "    print(f\"Synonyms: {', '.join(data['synonyms'])}\")\n",
        "    print(f\"Antonyms: {', '.join(data['antonyms']) if data['antonyms'] else 'No antonyms found.'}\")\n",
        "    print()"
      ],
      "metadata": {
        "colab": {
          "base_uri": "https://localhost:8080/"
        },
        "id": "sq6urQOKZ4mU",
        "outputId": "826a8a70-4856-48b4-f94a-fec812e11778"
      },
      "execution_count": 13,
      "outputs": [
        {
          "output_type": "stream",
          "name": "stdout",
          "text": [
            "Verb: play\n",
            "Synonyms: encounter, spiel, make_for, bet, meet, fiddle, flirt, take_on, work, wager, play, bring, act, act_as, dally, playact, roleplay, toy, run, wreak, diddle, recreate, represent, trifle\n",
            "Antonyms: No antonyms found.\n",
            "\n",
            "Verb: interconnected\n",
            "Synonyms: interlink, interconnect, complect\n",
            "Antonyms: No antonyms found.\n",
            "\n",
            "Verb: enabling\n",
            "Synonyms: enable\n",
            "Antonyms: disable\n",
            "\n",
            "Verb: drives\n",
            "Synonyms: drive, force, get, aim, ram, labor, beat_back, take, repulse, push_back, labour, tug, ride, push, repel, force_back, motor\n",
            "Antonyms: attract\n",
            "\n",
            "Verb: improves\n",
            "Synonyms: amend, ameliorate, better, meliorate, improve\n",
            "Antonyms: worsen\n",
            "\n",
            "Verb: are\n",
            "Synonyms: constitute, live, exist, follow, cost, make_up, be, represent, equal, embody, personify, comprise\n",
            "Antonyms: differ\n",
            "\n",
            "Verb: designed\n",
            "Synonyms: contrive, plan, design, project\n",
            "Antonyms: No antonyms found.\n",
            "\n",
            "Verb: detect\n",
            "Synonyms: notice, discover, find, observe, detect\n",
            "Antonyms: No antonyms found.\n",
            "\n",
            "Verb: respond\n",
            "Synonyms: respond, answer, react, reply\n",
            "Antonyms: No antonyms found.\n",
            "\n",
            "Verb: converting\n",
            "Synonyms: change_over, commute, win_over, convince, change, exchange, convert\n",
            "Antonyms: No antonyms found.\n",
            "\n",
            "Verb: serving\n",
            "Synonyms: function, serve_well, dish, answer, serve_up, assist, serve, help, dish_out, dish_up, wait_on, process, suffice, attend, do, attend_to, service, swear_out\n",
            "Antonyms: No antonyms found.\n",
            "\n",
            "Verb: monitor\n",
            "Synonyms: monitor, supervise\n",
            "Antonyms: No antonyms found.\n",
            "\n",
            "Verb: used\n",
            "Synonyms: employ, practice, apply, habituate, expend, use, utilise, utilize\n",
            "Antonyms: No antonyms found.\n",
            "\n",
            "Verb: utilized\n",
            "Synonyms: employ, apply, use, utilise, utilize\n",
            "Antonyms: No antonyms found.\n",
            "\n",
            "Verb: is\n",
            "Synonyms: constitute, live, exist, follow, cost, make_up, be, represent, equal, embody, personify, comprise\n",
            "Antonyms: differ\n",
            "\n",
            "Verb: detects\n",
            "Synonyms: notice, discover, find, observe, detect\n",
            "Antonyms: No antonyms found.\n",
            "\n",
            "Verb: found\n",
            "Synonyms: notice, find_out, encounter, ascertain, constitute, chance, find_oneself, ground, launch, detect, rule, plant, recover, bump, witness, feel, found, obtain, retrieve, line_up, set_up, observe, happen, regain, incur, get, establish, come_up, discover, find, base, see, receive, determine, institute, get_hold\n",
            "Antonyms: lose, abolish\n",
            "\n",
            "Verb: enhanced\n",
            "Synonyms: raise, enhance, heighten\n",
            "Antonyms: No antonyms found.\n",
            "\n"
          ]
        }
      ]
    },
    {
      "cell_type": "code",
      "source": [],
      "metadata": {
        "id": "ksoCF3n-Z6sC"
      },
      "execution_count": null,
      "outputs": []
    }
  ]
}